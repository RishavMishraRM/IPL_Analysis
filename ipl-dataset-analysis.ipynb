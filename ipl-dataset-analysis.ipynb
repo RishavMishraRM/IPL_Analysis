{
 "cells": [
  {
   "cell_type": "markdown",
   "execution_count": null,
   "metadata": {
    "_cell_guid": "e0a99c4e-967e-42e4-b339-15cc7f3e088a",
    "_execution_state": "idle",
    "_uuid": "12fbdd49aa52b948b015cfee8465beba33f7180e",
    "collapsed": false
   },
   "outputs": [],
   "source": []
  },
  {
   "cell_type": "code",
   "execution_count": 1,
   "metadata": {
    "_cell_guid": "3f301ae4-1e30-4bbd-aad6-ef83b992039b",
    "_uuid": "1f2ed96afed5390f75086af616c24938ec558928",
    "collapsed": false
   },
   "outputs": [],
   "source": [
    "import pandas as pd\n",
    "pd.set_option('max_rows',200)\n",
    "pd.set_option('max_columns',100)\n",
    "import numpy as np\n",
    "import matplotlib.pyplot as plt\n",
    "%matplotlib inline"
   ]
  },
  {
   "cell_type": "code",
   "execution_count": 2,
   "metadata": {
    "_cell_guid": "a4ecc134-ae8a-4d94-ae92-e1edbb33551f",
    "_uuid": "e843197c0ceba2282152e2940ff6325fa20cdaf1",
    "collapsed": true
   },
   "outputs": [],
   "source": [
    "deliveries = pd.read_csv('../input/deliveries.csv')\n",
    "matches = pd.read_csv('../input/matches.csv')"
   ]
  },
  {
   "cell_type": "markdown",
   "execution_count": null,
   "metadata": {
    "_cell_guid": "3215506c-f291-4a60-8377-736fe8c4523b",
    "_uuid": "139d68d6334d5345c7192189d4377a93240d6b3c"
   },
   "outputs": [],
   "source": [
    "# Analysis of matches "
   ]
  },
  {
   "cell_type": "markdown",
   "execution_count": null,
   "metadata": {
    "_cell_guid": "5ac40711-c21a-4299-9d07-4fb74857188d",
    "_uuid": "5887cd89d370590ac2137b5acc97ce91c416c73b"
   },
   "outputs": [],
   "source": [
    "###### Filling nan values"
   ]
  },
  {
   "cell_type": "code",
   "execution_count": 3,
   "metadata": {
    "_cell_guid": "ea2d3a76-1c2c-4d0e-9861-a78215f2f15b",
    "_uuid": "ed6d874945d971a529850f198c739776894bc858",
    "collapsed": false
   },
   "outputs": [],
   "source": [
    "matches.city.fillna('unknown',inplace=True)\n",
    "matches.winner.fillna('draw',inplace=True)\n",
    "matches.player_of_match.fillna('draw',inplace=True)"
   ]
  },
  {
   "cell_type": "markdown",
   "execution_count": null,
   "metadata": {
    "_cell_guid": "1b1a3a5f-ada4-4e36-bbd0-32dfd91eb4b9",
    "_uuid": "5079779d8a46a4208c01c16db96ca09ea123d9df"
   },
   "outputs": [],
   "source": [
    "###### Counting "
   ]
  },
  {
   "cell_type": "code",
   "execution_count": 4,
   "metadata": {
    "_cell_guid": "b59c97b9-c204-401b-bdaf-9ce6142b8648",
    "_uuid": "77a3d88c1676bea4c440705c74107c26e1b853ac",
    "collapsed": false,
    "scrolled": false
   },
   "outputs": [
    {
     "data": {
      "text/plain": [
       "id                 577\n",
       "season             577\n",
       "city               577\n",
       "date               577\n",
       "team1              577\n",
       "team2              577\n",
       "toss_winner        577\n",
       "toss_decision      577\n",
       "result             577\n",
       "dl_applied         577\n",
       "winner             577\n",
       "win_by_runs        577\n",
       "win_by_wickets     577\n",
       "player_of_match    577\n",
       "venue              577\n",
       "umpire1            577\n",
       "umpire2            577\n",
       "umpire3              0\n",
       "dtype: int64"
      ]
     },
     "execution_count": 4,
     "metadata": {},
     "output_type": "execute_result"
    }
   ],
   "source": [
    "matches.count()"
   ]
  },
  {
   "cell_type": "markdown",
   "execution_count": null,
   "metadata": {
    "_cell_guid": "a1659693-090d-4f0a-99a3-8ee3a6f2a467",
    "_uuid": "27723b7047cf2b0e3acdb4860c928a79349e383b"
   },
   "outputs": [],
   "source": [
    "###### Maximum Man of the matches "
   ]
  },
  {
   "cell_type": "code",
   "execution_count": 5,
   "metadata": {
    "_cell_guid": "3db0413d-676e-4db3-8dcf-32489279b1ca",
    "_uuid": "a63a000b2a666c74837dbdcc81596cf2133b3270",
    "collapsed": false
   },
   "outputs": [
    {
     "data": {
      "text/plain": [
       "player_of_match\n",
       "CH Gayle          17\n",
       "YK Pathan         16\n",
       "AB de Villiers    15\n",
       "DA Warner         14\n",
       "SK Raina          13\n",
       "Name: player_of_match, dtype: int64"
      ]
     },
     "execution_count": 5,
     "metadata": {},
     "output_type": "execute_result"
    }
   ],
   "source": [
    "matches.groupby(matches.player_of_match).player_of_match.count().sort_values(ascending=False).head(5)"
   ]
  },
  {
   "cell_type": "markdown",
   "execution_count": null,
   "metadata": {
    "_cell_guid": "716659c0-d332-456a-9df2-5f0fc5d34a76",
    "_uuid": "75de4c11aa267290bfef42d9d7cb8a5b745bdefb"
   },
   "outputs": [],
   "source": [
    "###### Total matches played by a team"
   ]
  },
  {
   "cell_type": "code",
   "execution_count": 6,
   "metadata": {
    "_cell_guid": "6ad0ce14-1b25-4a66-b298-43edc403b7b8",
    "_uuid": "4b3ea6b342d8673a3fe3d1630a60faf133299a14",
    "collapsed": false
   },
   "outputs": [],
   "source": [
    "teams = matches.team1.append(matches.team2)\n",
    "teams_df = pd.DataFrame(teams)\n",
    "teams_df.columns = ['team']\n",
    "count_match_series = teams_df.groupby(teams_df.team).team.count()\n",
    "count_match_df = pd.DataFrame(count_match_series)\n",
    "count_match_df.columns = ['countplayed']\n",
    "count_match_df.reset_index(inplace=True)\n",
    "count_match_df.sort_values('team')\n",
    "team_sorted = count_match_df.team\n",
    "played_sorted = count_match_df.countplayed"
   ]
  },
  {
   "cell_type": "code",
   "execution_count": 7,
   "metadata": {
    "_cell_guid": "9c22e519-1e21-4efc-bc6d-a4204e359bd7",
    "_uuid": "36a0f9f997a4d50f6177d48370eca0872d211110",
    "collapsed": false
   },
   "outputs": [
    {
     "data": {
      "text/html": [
       "<div>\n",
       "<style>\n",
       "    .dataframe thead tr:only-child th {\n",
       "        text-align: right;\n",
       "    }\n",
       "\n",
       "    .dataframe thead th {\n",
       "        text-align: left;\n",
       "    }\n",
       "\n",
       "    .dataframe tbody tr th {\n",
       "        vertical-align: top;\n",
       "    }\n",
       "</style>\n",
       "<table border=\"1\" class=\"dataframe\">\n",
       "  <thead>\n",
       "    <tr style=\"text-align: right;\">\n",
       "      <th></th>\n",
       "      <th>team</th>\n",
       "      <th>countplayed</th>\n",
       "    </tr>\n",
       "  </thead>\n",
       "  <tbody>\n",
       "    <tr>\n",
       "      <th>0</th>\n",
       "      <td>Chennai Super Kings</td>\n",
       "      <td>131</td>\n",
       "    </tr>\n",
       "    <tr>\n",
       "      <th>1</th>\n",
       "      <td>Deccan Chargers</td>\n",
       "      <td>75</td>\n",
       "    </tr>\n",
       "    <tr>\n",
       "      <th>2</th>\n",
       "      <td>Delhi Daredevils</td>\n",
       "      <td>133</td>\n",
       "    </tr>\n",
       "    <tr>\n",
       "      <th>3</th>\n",
       "      <td>Gujarat Lions</td>\n",
       "      <td>16</td>\n",
       "    </tr>\n",
       "    <tr>\n",
       "      <th>4</th>\n",
       "      <td>Kings XI Punjab</td>\n",
       "      <td>134</td>\n",
       "    </tr>\n",
       "    <tr>\n",
       "      <th>5</th>\n",
       "      <td>Kochi Tuskers Kerala</td>\n",
       "      <td>14</td>\n",
       "    </tr>\n",
       "    <tr>\n",
       "      <th>6</th>\n",
       "      <td>Kolkata Knight Riders</td>\n",
       "      <td>132</td>\n",
       "    </tr>\n",
       "    <tr>\n",
       "      <th>7</th>\n",
       "      <td>Mumbai Indians</td>\n",
       "      <td>140</td>\n",
       "    </tr>\n",
       "    <tr>\n",
       "      <th>8</th>\n",
       "      <td>Pune Warriors</td>\n",
       "      <td>46</td>\n",
       "    </tr>\n",
       "    <tr>\n",
       "      <th>9</th>\n",
       "      <td>Rajasthan Royals</td>\n",
       "      <td>118</td>\n",
       "    </tr>\n",
       "    <tr>\n",
       "      <th>10</th>\n",
       "      <td>Rising Pune Supergiants</td>\n",
       "      <td>14</td>\n",
       "    </tr>\n",
       "    <tr>\n",
       "      <th>11</th>\n",
       "      <td>Royal Challengers Bangalore</td>\n",
       "      <td>139</td>\n",
       "    </tr>\n",
       "    <tr>\n",
       "      <th>12</th>\n",
       "      <td>Sunrisers Hyderabad</td>\n",
       "      <td>62</td>\n",
       "    </tr>\n",
       "  </tbody>\n",
       "</table>\n",
       "</div>"
      ],
      "text/plain": [
       "                           team  countplayed\n",
       "0           Chennai Super Kings          131\n",
       "1               Deccan Chargers           75\n",
       "2              Delhi Daredevils          133\n",
       "3                 Gujarat Lions           16\n",
       "4               Kings XI Punjab          134\n",
       "5          Kochi Tuskers Kerala           14\n",
       "6         Kolkata Knight Riders          132\n",
       "7                Mumbai Indians          140\n",
       "8                 Pune Warriors           46\n",
       "9              Rajasthan Royals          118\n",
       "10      Rising Pune Supergiants           14\n",
       "11  Royal Challengers Bangalore          139\n",
       "12          Sunrisers Hyderabad           62"
      ]
     },
     "execution_count": 7,
     "metadata": {},
     "output_type": "execute_result"
    }
   ],
   "source": [
    "count_match_df"
   ]
  },
  {
   "cell_type": "markdown",
   "execution_count": null,
   "metadata": {
    "_cell_guid": "07f67c39-2f3b-484c-b0bb-cc408cc0cd3a",
    "_uuid": "a511d979241af052721aecb1e32610b3bec315d4"
   },
   "outputs": [],
   "source": [
    "###### Total matches won by a team "
   ]
  },
  {
   "cell_type": "code",
   "execution_count": 8,
   "metadata": {
    "_cell_guid": "3d5d91ed-437d-44c7-aeba-39821b3031ed",
    "_uuid": "736fe556ca6d2510c587c84d324264ef7853a303",
    "collapsed": false
   },
   "outputs": [],
   "source": [
    "winner_series = matches.groupby(matches.winner).winner.count()\n",
    "winner_df = pd.DataFrame(winner_series)\n",
    "winner_df.columns = ['countwin']\n",
    "winner_df.reset_index(inplace=True)\n",
    "win_sorted = winner_df.countwin"
   ]
  },
  {
   "cell_type": "code",
   "execution_count": 9,
   "metadata": {
    "_cell_guid": "8b3aeb76-99ac-488e-977c-388a4123fb94",
    "_uuid": "f2bf95eab16b3d29c1e6fe9cb6430a15638733f5",
    "collapsed": false
   },
   "outputs": [
    {
     "data": {
      "text/html": [
       "<div>\n",
       "<style>\n",
       "    .dataframe thead tr:only-child th {\n",
       "        text-align: right;\n",
       "    }\n",
       "\n",
       "    .dataframe thead th {\n",
       "        text-align: left;\n",
       "    }\n",
       "\n",
       "    .dataframe tbody tr th {\n",
       "        vertical-align: top;\n",
       "    }\n",
       "</style>\n",
       "<table border=\"1\" class=\"dataframe\">\n",
       "  <thead>\n",
       "    <tr style=\"text-align: right;\">\n",
       "      <th></th>\n",
       "      <th>winner</th>\n",
       "      <th>countwin</th>\n",
       "    </tr>\n",
       "  </thead>\n",
       "  <tbody>\n",
       "    <tr>\n",
       "      <th>0</th>\n",
       "      <td>Chennai Super Kings</td>\n",
       "      <td>79</td>\n",
       "    </tr>\n",
       "    <tr>\n",
       "      <th>1</th>\n",
       "      <td>Deccan Chargers</td>\n",
       "      <td>29</td>\n",
       "    </tr>\n",
       "    <tr>\n",
       "      <th>2</th>\n",
       "      <td>Delhi Daredevils</td>\n",
       "      <td>56</td>\n",
       "    </tr>\n",
       "    <tr>\n",
       "      <th>3</th>\n",
       "      <td>Gujarat Lions</td>\n",
       "      <td>9</td>\n",
       "    </tr>\n",
       "    <tr>\n",
       "      <th>4</th>\n",
       "      <td>Kings XI Punjab</td>\n",
       "      <td>63</td>\n",
       "    </tr>\n",
       "    <tr>\n",
       "      <th>5</th>\n",
       "      <td>Kochi Tuskers Kerala</td>\n",
       "      <td>6</td>\n",
       "    </tr>\n",
       "    <tr>\n",
       "      <th>6</th>\n",
       "      <td>Kolkata Knight Riders</td>\n",
       "      <td>68</td>\n",
       "    </tr>\n",
       "    <tr>\n",
       "      <th>7</th>\n",
       "      <td>Mumbai Indians</td>\n",
       "      <td>80</td>\n",
       "    </tr>\n",
       "    <tr>\n",
       "      <th>8</th>\n",
       "      <td>Pune Warriors</td>\n",
       "      <td>12</td>\n",
       "    </tr>\n",
       "    <tr>\n",
       "      <th>9</th>\n",
       "      <td>Rajasthan Royals</td>\n",
       "      <td>63</td>\n",
       "    </tr>\n",
       "    <tr>\n",
       "      <th>10</th>\n",
       "      <td>Rising Pune Supergiants</td>\n",
       "      <td>5</td>\n",
       "    </tr>\n",
       "    <tr>\n",
       "      <th>11</th>\n",
       "      <td>Royal Challengers Bangalore</td>\n",
       "      <td>70</td>\n",
       "    </tr>\n",
       "    <tr>\n",
       "      <th>12</th>\n",
       "      <td>Sunrisers Hyderabad</td>\n",
       "      <td>34</td>\n",
       "    </tr>\n",
       "    <tr>\n",
       "      <th>13</th>\n",
       "      <td>draw</td>\n",
       "      <td>3</td>\n",
       "    </tr>\n",
       "  </tbody>\n",
       "</table>\n",
       "</div>"
      ],
      "text/plain": [
       "                         winner  countwin\n",
       "0           Chennai Super Kings        79\n",
       "1               Deccan Chargers        29\n",
       "2              Delhi Daredevils        56\n",
       "3                 Gujarat Lions         9\n",
       "4               Kings XI Punjab        63\n",
       "5          Kochi Tuskers Kerala         6\n",
       "6         Kolkata Knight Riders        68\n",
       "7                Mumbai Indians        80\n",
       "8                 Pune Warriors        12\n",
       "9              Rajasthan Royals        63\n",
       "10      Rising Pune Supergiants         5\n",
       "11  Royal Challengers Bangalore        70\n",
       "12          Sunrisers Hyderabad        34\n",
       "13                         draw         3"
      ]
     },
     "execution_count": 9,
     "metadata": {},
     "output_type": "execute_result"
    }
   ],
   "source": [
    "winner_df"
   ]
  },
  {
   "cell_type": "markdown",
   "execution_count": null,
   "metadata": {
    "_cell_guid": "4212d079-b456-4707-b5c9-8b11766adb69",
    "_uuid": "f4e631a96bf855d6863f6e93edbb25486ffb831d"
   },
   "outputs": [],
   "source": [
    "###### Total matches lost by a team"
   ]
  },
  {
   "cell_type": "code",
   "execution_count": 10,
   "metadata": {
    "_cell_guid": "184d6089-e626-4994-b09c-4a8a86edbba4",
    "_uuid": "970823ee1f308940387fe3be38e5f387dc4098a5",
    "collapsed": false
   },
   "outputs": [
    {
     "data": {
      "text/html": [
       "<div>\n",
       "<style>\n",
       "    .dataframe thead tr:only-child th {\n",
       "        text-align: right;\n",
       "    }\n",
       "\n",
       "    .dataframe thead th {\n",
       "        text-align: left;\n",
       "    }\n",
       "\n",
       "    .dataframe tbody tr th {\n",
       "        vertical-align: top;\n",
       "    }\n",
       "</style>\n",
       "<table border=\"1\" class=\"dataframe\">\n",
       "  <thead>\n",
       "    <tr style=\"text-align: right;\">\n",
       "      <th></th>\n",
       "      <th>loss_count</th>\n",
       "      <th>team</th>\n",
       "    </tr>\n",
       "  </thead>\n",
       "  <tbody>\n",
       "    <tr>\n",
       "      <th>2</th>\n",
       "      <td>77.0</td>\n",
       "      <td>Delhi Daredevils</td>\n",
       "    </tr>\n",
       "    <tr>\n",
       "      <th>4</th>\n",
       "      <td>71.0</td>\n",
       "      <td>Kings XI Punjab</td>\n",
       "    </tr>\n",
       "    <tr>\n",
       "      <th>11</th>\n",
       "      <td>69.0</td>\n",
       "      <td>Royal Challengers Bangalore</td>\n",
       "    </tr>\n",
       "    <tr>\n",
       "      <th>6</th>\n",
       "      <td>64.0</td>\n",
       "      <td>Kolkata Knight Riders</td>\n",
       "    </tr>\n",
       "    <tr>\n",
       "      <th>7</th>\n",
       "      <td>60.0</td>\n",
       "      <td>Mumbai Indians</td>\n",
       "    </tr>\n",
       "    <tr>\n",
       "      <th>9</th>\n",
       "      <td>55.0</td>\n",
       "      <td>Rajasthan Royals</td>\n",
       "    </tr>\n",
       "    <tr>\n",
       "      <th>0</th>\n",
       "      <td>52.0</td>\n",
       "      <td>Chennai Super Kings</td>\n",
       "    </tr>\n",
       "    <tr>\n",
       "      <th>1</th>\n",
       "      <td>46.0</td>\n",
       "      <td>Deccan Chargers</td>\n",
       "    </tr>\n",
       "    <tr>\n",
       "      <th>8</th>\n",
       "      <td>34.0</td>\n",
       "      <td>Pune Warriors</td>\n",
       "    </tr>\n",
       "    <tr>\n",
       "      <th>12</th>\n",
       "      <td>28.0</td>\n",
       "      <td>Sunrisers Hyderabad</td>\n",
       "    </tr>\n",
       "    <tr>\n",
       "      <th>10</th>\n",
       "      <td>9.0</td>\n",
       "      <td>Rising Pune Supergiants</td>\n",
       "    </tr>\n",
       "    <tr>\n",
       "      <th>5</th>\n",
       "      <td>8.0</td>\n",
       "      <td>Kochi Tuskers Kerala</td>\n",
       "    </tr>\n",
       "    <tr>\n",
       "      <th>3</th>\n",
       "      <td>7.0</td>\n",
       "      <td>Gujarat Lions</td>\n",
       "    </tr>\n",
       "    <tr>\n",
       "      <th>13</th>\n",
       "      <td>NaN</td>\n",
       "      <td>NaN</td>\n",
       "    </tr>\n",
       "  </tbody>\n",
       "</table>\n",
       "</div>"
      ],
      "text/plain": [
       "    loss_count                         team\n",
       "2         77.0             Delhi Daredevils\n",
       "4         71.0              Kings XI Punjab\n",
       "11        69.0  Royal Challengers Bangalore\n",
       "6         64.0        Kolkata Knight Riders\n",
       "7         60.0               Mumbai Indians\n",
       "9         55.0             Rajasthan Royals\n",
       "0         52.0          Chennai Super Kings\n",
       "1         46.0              Deccan Chargers\n",
       "8         34.0                Pune Warriors\n",
       "12        28.0          Sunrisers Hyderabad\n",
       "10         9.0      Rising Pune Supergiants\n",
       "5          8.0         Kochi Tuskers Kerala\n",
       "3          7.0                Gujarat Lions\n",
       "13         NaN                          NaN"
      ]
     },
     "execution_count": 10,
     "metadata": {},
     "output_type": "execute_result"
    }
   ],
   "source": [
    "total_losses = played_sorted - win_sorted\n",
    "loss_df = pd.DataFrame(total_losses)\n",
    "team_df = pd.DataFrame(team_sorted)\n",
    "loss_df = pd.concat((loss_df,team_df),axis=1)\n",
    "loss_df.columns = ['loss_count','team']\n",
    "loss_df.sort_values('loss_count',ascending=False)"
   ]
  },
  {
   "cell_type": "markdown",
   "execution_count": null,
   "metadata": {
    "_cell_guid": "226a6202-3035-42d8-9441-e1ad4f76c3a7",
    "_uuid": "41c83dd6c1cf69a69f55f6224f92bac2dcf189f0"
   },
   "outputs": [],
   "source": [
    "### TOSS Related Analysis"
   ]
  },
  {
   "cell_type": "markdown",
   "execution_count": null,
   "metadata": {
    "_cell_guid": "b000178f-f43c-465e-874b-06fc190a5efb",
    "_uuid": "4dc5d8ae7c303c1e7e03b623f30d50aeaddc1a9d"
   },
   "outputs": [],
   "source": [
    "###### Total toss won by a team"
   ]
  },
  {
   "cell_type": "code",
   "execution_count": 11,
   "metadata": {
    "_cell_guid": "877e2c3f-a7e1-40e0-84e9-2a4e5dfcc2f2",
    "_uuid": "e178fa743619794b04d1a1bbd672e51b946a852b",
    "collapsed": false
   },
   "outputs": [
    {
     "data": {
      "text/plain": [
       "toss_winner\n",
       "Chennai Super Kings            66\n",
       "Deccan Chargers                43\n",
       "Delhi Daredevils               64\n",
       "Gujarat Lions                   8\n",
       "Kings XI Punjab                64\n",
       "Kochi Tuskers Kerala            8\n",
       "Kolkata Knight Riders          69\n",
       "Mumbai Indians                 74\n",
       "Pune Warriors                  20\n",
       "Rajasthan Royals               63\n",
       "Rising Pune Supergiants         7\n",
       "Royal Challengers Bangalore    61\n",
       "Sunrisers Hyderabad            30\n",
       "Name: toss_winner, dtype: int64"
      ]
     },
     "execution_count": 11,
     "metadata": {},
     "output_type": "execute_result"
    }
   ],
   "source": [
    "matches.groupby(matches.toss_winner).toss_winner.count()"
   ]
  },
  {
   "cell_type": "markdown",
   "execution_count": null,
   "metadata": {
    "_cell_guid": "8e52ebdf-fe09-4225-93c8-64ac2443d347",
    "_uuid": "6f99e8d87713b4f67e877b5644e18be63fde7a84",
    "collapsed": true
   },
   "outputs": [],
   "source": [
    "###### Batting or bowling first after winning toss"
   ]
  },
  {
   "cell_type": "code",
   "execution_count": 12,
   "metadata": {
    "_cell_guid": "265b53ec-6a48-479f-8fcc-59b3b6379c24",
    "_uuid": "0649ce49c1e3cd64b98c81aed92cbb726acf46bd",
    "collapsed": false
   },
   "outputs": [
    {
     "data": {
      "text/plain": [
       "<matplotlib.axes._subplots.AxesSubplot at 0x7fe50d12cb70>"
      ]
     },
     "execution_count": 12,
     "metadata": {},
     "output_type": "execute_result"
    },
    {
     "data": {
      "image/png": "[encoded data removed]",
      "text/plain": [
       "<matplotlib.figure.Figure at 0x7fe50d11eda0>"
      ]
     },
     "metadata": {},
     "output_type": "display_data"
    }
   ],
   "source": [
    "choice_series = matches.groupby(matches.toss_decision).toss_decision.count()\n",
    "choice_series.plot(kind='bar')"
   ]
  },
  {
   "cell_type": "markdown",
   "execution_count": null,
   "metadata": {
    "_cell_guid": "7ecff159-5f22-4d17-a75c-5a417687da2e",
    "_uuid": "8e7f83381ab1f387845323c10503593eb4dee840"
   },
   "outputs": [],
   "source": [
    "###### Batting First Wins vs Batting Second Wins After Winning Toss"
   ]
  },
  {
   "cell_type": "code",
   "execution_count": 13,
   "metadata": {
    "_cell_guid": "fb284b64-3482-4554-b326-0c4103f44261",
    "_uuid": "0b46fe6df78d677a8d733d94af23ebb8bb9401fd",
    "collapsed": false
   },
   "outputs": [
    {
     "data": {
      "text/plain": [
       "<matplotlib.axes._subplots.AxesSubplot at 0x7fe50cdc2c88>"
      ]
     },
     "execution_count": 13,
     "metadata": {},
     "output_type": "execute_result"
    },
    {
     "data": {
      "image/png": "[encoded data removed]",
      "text/plain": [
       "<matplotlib.figure.Figure at 0x7fe50ce9aa90>"
      ]
     },
     "metadata": {},
     "output_type": "display_data"
    }
   ],
   "source": [
    "condition = matches.toss_decision =='bat'\n",
    "df1 = matches.loc[condition,:]\n",
    "df2 = matches.loc[~condition,:]\n",
    "\n",
    "percentage_when_batting_first_won  = (df1.toss_winner == df1.winner).mean()\n",
    "percentage_when_fielding_first_won = (df2.toss_winner == df2.winner).mean()\n",
    "df = pd.DataFrame([percentage_when_batting_first_won,percentage_when_fielding_first_won])\n",
    "df.plot(kind='bar')"
   ]
  },
  {
   "cell_type": "markdown",
   "execution_count": null,
   "metadata": {
    "_cell_guid": "591f7405-a0ea-42a7-a3e5-7d7c1e6db45b",
    "_uuid": "082298dc9ee2a87328290e79a351db10275e42ac"
   },
   "outputs": [],
   "source": [
    "# Analysis of Deliveries"
   ]
  },
  {
   "cell_type": "markdown",
   "execution_count": null,
   "metadata": {
    "_cell_guid": "a1f8b105-2272-4fb1-ad6b-2181c41e2bee",
    "_uuid": "0f2010603f618e5bf8231038a93417b638099e59"
   },
   "outputs": [],
   "source": [
    "###### Filling missing values"
   ]
  },
  {
   "cell_type": "code",
   "execution_count": 14,
   "metadata": {
    "_cell_guid": "a10adad3-8fc2-4428-8c5c-691e0fa7b45e",
    "_uuid": "975b3216b59bf4abaf8de4b31d0bbb9a97fb989d",
    "collapsed": false
   },
   "outputs": [],
   "source": [
    "deliveries.dismissal_kind.fillna('notout',inplace=True)\n",
    "deliveries.player_dismissed.fillna('notout',inplace=True)\n",
    "deliveries.fielder.fillna('notout',inplace=True)"
   ]
  },
  {
   "cell_type": "markdown",
   "execution_count": null,
   "metadata": {
    "_cell_guid": "00012393-2272-4511-8161-e62419e18a09",
    "_uuid": "8c6630db7513763e98734b2c8eaacab4259a8bdc"
   },
   "outputs": [],
   "source": [
    "###### Counting "
   ]
  },
  {
   "cell_type": "code",
   "execution_count": 15,
   "metadata": {
    "_cell_guid": "f61badaa-2458-4de2-9782-5f452ca8d6ba",
    "_uuid": "1ea2c47c6807417fa098b5b872ad6c17e83dae26",
    "collapsed": false
   },
   "outputs": [
    {
     "data": {
      "text/plain": [
       "match_id            136598\n",
       "inning              136598\n",
       "batting_team        136598\n",
       "bowling_team        136598\n",
       "over                136598\n",
       "ball                136598\n",
       "batsman             136598\n",
       "non_striker         136598\n",
       "bowler              136598\n",
       "is_super_over       136598\n",
       "wide_runs           136598\n",
       "bye_runs            136598\n",
       "legbye_runs         136598\n",
       "noball_runs         136598\n",
       "penalty_runs        136598\n",
       "batsman_runs        136598\n",
       "extra_runs          136598\n",
       "total_runs          136598\n",
       "player_dismissed    136598\n",
       "dismissal_kind      136598\n",
       "fielder             136598\n",
       "dtype: int64"
      ]
     },
     "execution_count": 15,
     "metadata": {},
     "output_type": "execute_result"
    }
   ],
   "source": [
    "deliveries.count()"
   ]
  },
  {
   "cell_type": "markdown",
   "execution_count": null,
   "metadata": {
    "_cell_guid": "ed13db66-4b96-4001-ba9c-ebec9e9f5ee0",
    "_uuid": "450bcf415de9fb3877276ff938054986176b2283"
   },
   "outputs": [],
   "source": [
    "###### Dismissals kind"
   ]
  },
  {
   "cell_type": "code",
   "execution_count": 16,
   "metadata": {
    "_cell_guid": "f10c669a-ed63-4537-8c52-f3bdec81a161",
    "_uuid": "7a263d3ade4888791c2204049c12fded61357759",
    "collapsed": false
   },
   "outputs": [
    {
     "data": {
      "text/plain": [
       "array(['notout', 'caught', 'bowled', 'run out', 'lbw', 'retired hurt',\n",
       "       'stumped', 'caught and bowled', 'hit wicket',\n",
       "       'obstructing the field'], dtype=object)"
      ]
     },
     "execution_count": 16,
     "metadata": {},
     "output_type": "execute_result"
    }
   ],
   "source": [
    "\n",
    "deliveries.dismissal_kind.unique()"
   ]
  },
  {
   "cell_type": "markdown",
   "execution_count": null,
   "metadata": {
    "_cell_guid": "1109b837-d2ce-4964-b2c0-8e3a541eb9c0",
    "_uuid": "4f46dcd3f140cc0d4fb2891fa866495329f0b4e8"
   },
   "outputs": [],
   "source": [
    "### Bowling Analysis"
   ]
  },
  {
   "cell_type": "markdown",
   "execution_count": null,
   "metadata": {
    "_cell_guid": "1fbb2a28-ad64-4193-974e-802d15d225ba",
    "_uuid": "ee14471c0e635a522a4718c33834e7ee8dbbba7a"
   },
   "outputs": [],
   "source": [
    "###### Total wickets between differnt overs"
   ]
  },
  {
   "cell_type": "code",
   "execution_count": 17,
   "metadata": {
    "_cell_guid": "2c45d731-8a1f-4200-b070-bcc87faf80e6",
    "_uuid": "b94bbe73e9ac69a2b51c58e5f4d8ff16f0b9e10f",
    "collapsed": false
   },
   "outputs": [
    {
     "data": {
      "text/plain": [
       "<matplotlib.axes._subplots.AxesSubplot at 0x7fe50cd39dd8>"
      ]
     },
     "execution_count": 17,
     "metadata": {},
     "output_type": "execute_result"
    },
    {
     "data": {
      "image/png": "[encoded data removed]",
      "text/plain": [
       "<matplotlib.figure.Figure at 0x7fe50ce9a550>"
      ]
     },
     "metadata": {},
     "output_type": "display_data"
    }
   ],
   "source": [
    "condition = (deliveries.dismissal_kind != 'run out')&(deliveries.dismissal_kind != 'retired hurt')&(deliveries.dismissal_kind != 'notout')\n",
    "df = deliveries.loc[condition,:]\n",
    "df.groupby([df.over]).over.count().plot(kind='pie')"
   ]
  },
  {
   "cell_type": "markdown",
   "execution_count": null,
   "metadata": {
    "_cell_guid": "9ce16c85-1b6d-43d1-98e9-6525f0911894",
    "_uuid": "29c312fba38b1233d18c3720433cdf940a3249d1"
   },
   "outputs": [],
   "source": [
    "###### Total runs conceded by a team in all seasons "
   ]
  },
  {
   "cell_type": "code",
   "execution_count": 18,
   "metadata": {
    "_cell_guid": "9dfb3756-e338-4689-8133-45a3fcf01ce1",
    "_uuid": "6b0b334aa247843dcdb5f843bdf1697b9ef6d565",
    "collapsed": false
   },
   "outputs": [],
   "source": [
    "#deliveries.groupby(deliveries.bowling_team).total_runs.sum()"
   ]
  },
  {
   "cell_type": "markdown",
   "execution_count": null,
   "metadata": {
    "_cell_guid": "df190be8-9b8c-458b-9742-678e78c643bb",
    "_uuid": "71478e92aabc5a9e0be32babbc057d5dae67e040"
   },
   "outputs": [],
   "source": [
    "###### Maximum type of dismissals"
   ]
  },
  {
   "cell_type": "code",
   "execution_count": 19,
   "metadata": {
    "_cell_guid": "a0666025-504b-4df2-82f7-6143769035a7",
    "_uuid": "a7bb8c5e46e3286e582b055fb91cbae1386da4dd",
    "collapsed": false
   },
   "outputs": [
    {
     "data": {
      "text/html": [
       "<div>\n",
       "<style>\n",
       "    .dataframe thead tr:only-child th {\n",
       "        text-align: right;\n",
       "    }\n",
       "\n",
       "    .dataframe thead th {\n",
       "        text-align: left;\n",
       "    }\n",
       "\n",
       "    .dataframe tbody tr th {\n",
       "        vertical-align: top;\n",
       "    }\n",
       "</style>\n",
       "<table border=\"1\" class=\"dataframe\">\n",
       "  <thead>\n",
       "    <tr style=\"text-align: right;\">\n",
       "      <th></th>\n",
       "      <th>dismissal_kind</th>\n",
       "    </tr>\n",
       "    <tr>\n",
       "      <th>dismissal_kind</th>\n",
       "      <th></th>\n",
       "    </tr>\n",
       "  </thead>\n",
       "  <tbody>\n",
       "    <tr>\n",
       "      <th>obstructing the field</th>\n",
       "      <td>1</td>\n",
       "    </tr>\n",
       "    <tr>\n",
       "      <th>hit wicket</th>\n",
       "      <td>8</td>\n",
       "    </tr>\n",
       "    <tr>\n",
       "      <th>retired hurt</th>\n",
       "      <td>8</td>\n",
       "    </tr>\n",
       "    <tr>\n",
       "      <th>caught and bowled</th>\n",
       "      <td>187</td>\n",
       "    </tr>\n",
       "    <tr>\n",
       "      <th>stumped</th>\n",
       "      <td>222</td>\n",
       "    </tr>\n",
       "    <tr>\n",
       "      <th>lbw</th>\n",
       "      <td>399</td>\n",
       "    </tr>\n",
       "    <tr>\n",
       "      <th>run out</th>\n",
       "      <td>697</td>\n",
       "    </tr>\n",
       "    <tr>\n",
       "      <th>bowled</th>\n",
       "      <td>1251</td>\n",
       "    </tr>\n",
       "    <tr>\n",
       "      <th>caught</th>\n",
       "      <td>3954</td>\n",
       "    </tr>\n",
       "    <tr>\n",
       "      <th>notout</th>\n",
       "      <td>129871</td>\n",
       "    </tr>\n",
       "  </tbody>\n",
       "</table>\n",
       "</div>"
      ],
      "text/plain": [
       "                       dismissal_kind\n",
       "dismissal_kind                       \n",
       "obstructing the field               1\n",
       "hit wicket                          8\n",
       "retired hurt                        8\n",
       "caught and bowled                 187\n",
       "stumped                           222\n",
       "lbw                               399\n",
       "run out                           697\n",
       "bowled                           1251\n",
       "caught                           3954\n",
       "notout                         129871"
      ]
     },
     "execution_count": 19,
     "metadata": {},
     "output_type": "execute_result"
    }
   ],
   "source": [
    "out_series = deliveries.groupby(deliveries.dismissal_kind).dismissal_kind.count()\n",
    "out_df = pd.DataFrame(out_series).sort_values('dismissal_kind')\n",
    "out_df"
   ]
  },
  {
   "cell_type": "markdown",
   "execution_count": null,
   "metadata": {
    "_cell_guid": "98efa1e4-183e-47ff-aa54-7964464ca69e",
    "_uuid": "ff9d3e989d87b9637942f791cceb3726d54c27f4"
   },
   "outputs": [],
   "source": [
    "###### Total runs conceded per ball by different bowlers "
   ]
  },
  {
   "cell_type": "code",
   "execution_count": 20,
   "metadata": {
    "_cell_guid": "17ff1407-d7f8-431c-873d-c495af951cfd",
    "_uuid": "60ba6a7ecc06455e4a938032f6e21b8c3f66d6e4",
    "collapsed": false
   },
   "outputs": [],
   "source": [
    "#deliveries.groupby(deliveries.bowler).total_runs.mean().sort_values()"
   ]
  },
  {
   "cell_type": "markdown",
   "execution_count": null,
   "metadata": {
    "_cell_guid": "15fb0cc1-6276-423e-be25-b61c0c3f53bb",
    "_uuid": "643231182d455d92934706e06d9e506ff8103685"
   },
   "outputs": [],
   "source": [
    "###### Total wickets taken by bowler excluding run out and retired hurt"
   ]
  },
  {
   "cell_type": "code",
   "execution_count": 21,
   "metadata": {
    "_cell_guid": "254f4705-7ebf-49c9-a7ad-381b3cfe0fe0",
    "_uuid": "6237b94b6a38e20456956468037318a4a371fbe6",
    "collapsed": false,
    "scrolled": false
   },
   "outputs": [],
   "source": [
    "condition = (deliveries.dismissal_kind != 'run out')&(deliveries.dismissal_kind != 'retired hurt')&(deliveries.dismissal_kind != 'notout')\n",
    "df = deliveries.loc[condition,:]\n",
    "#df.groupby(df.bowler).over.count().sort_values(ascending=False)"
   ]
  },
  {
   "cell_type": "markdown",
   "execution_count": null,
   "metadata": {
    "_cell_guid": "94ebdc51-f771-4458-9bfd-4a320ab053f1",
    "_uuid": "0abd5283bbe8a65668fbf34f39b780b65747ba9f"
   },
   "outputs": [],
   "source": [
    "###### Maximum wickets taken in death overs excluding run outs and retired hurt"
   ]
  },
  {
   "cell_type": "code",
   "execution_count": 22,
   "metadata": {
    "_cell_guid": "4e14bd1a-ce75-4803-9e1e-de8b8a65c809",
    "_uuid": "4d2cdd0408a7f66c50f9c1840e52610714d38bdf",
    "collapsed": false
   },
   "outputs": [],
   "source": [
    "condition = (deliveries.over > 15) &(deliveries.dismissal_kind != 'run out')&(deliveries.dismissal_kind != 'retired hurt')&(deliveries.dismissal_kind != 'notout')\n",
    "df = deliveries.loc[condition,:]\n",
    "#df.groupby(df.bowler).over.count().sort_values(ascending=False)"
   ]
  },
  {
   "cell_type": "markdown",
   "execution_count": null,
   "metadata": {
    "_cell_guid": "7dd8b19a-b194-42a6-98e2-448d8d80b9e0",
    "_uuid": "cdde8b6c146ea327dd25d18b985abd8409432f60"
   },
   "outputs": [],
   "source": [
    "###### Minimum runs conceded in death overs per ball "
   ]
  },
  {
   "cell_type": "code",
   "execution_count": 23,
   "metadata": {
    "_cell_guid": "ce59c36d-98fa-4fe8-a1bc-3a7e0b965579",
    "_uuid": "9a6ba048faf98207f868bdc31f5e176208c4edce",
    "collapsed": false
   },
   "outputs": [],
   "source": [
    "#Including only those bowlers that have bowled atleast 15 death overs\n",
    "del_series = deliveries.groupby(deliveries.bowler).total_runs.count()\n",
    "del_df = pd.DataFrame(del_series).reset_index()\n",
    "del_df.columns = ['bowler','delivery']\n",
    "bowlers = del_df.loc[del_df.delivery >=90,:].bowler"
   ]
  },
  {
   "cell_type": "code",
   "execution_count": 24,
   "metadata": {
    "_cell_guid": "f676a4d5-7f5c-4124-9f8d-f372b8986584",
    "_uuid": "1457d2ee98fee0505a8a907ffe93acf103293da1",
    "collapsed": false
   },
   "outputs": [
    {
     "data": {
      "text/plain": [
       "bowler\n",
       "PD Collingwood     0.913043\n",
       "A Chandila         1.000000\n",
       "KC Cariappa        1.000000\n",
       "GJ Maxwell         1.000000\n",
       "KMDN Kulasekara    1.066667\n",
       "Sohail Tanvir      1.140187\n",
       "S Gopal            1.142857\n",
       "BCJ Cutting        1.166667\n",
       "A Zampa            1.200000\n",
       "SL Malinga         1.203285\n",
       "Name: total_runs, dtype: float64"
      ]
     },
     "execution_count": 24,
     "metadata": {},
     "output_type": "execute_result"
    }
   ],
   "source": [
    "\n",
    "condition = (deliveries.over > 15) & (deliveries.bowler.isin(bowlers))\n",
    "df = deliveries.loc[condition,:]\n",
    "df.groupby(df.bowler).total_runs.mean().sort_values().head(10)"
   ]
  },
  {
   "cell_type": "markdown",
   "execution_count": null,
   "metadata": {
    "_cell_guid": "2d17992e-3b10-440f-b2b2-0ae09a98233c",
    "_uuid": "b14a8a55e0410345f341a9639149e7f3d65e63b5"
   },
   "outputs": [],
   "source": [
    "### Batsman"
   ]
  },
  {
   "cell_type": "markdown",
   "execution_count": null,
   "metadata": {
    "_cell_guid": "c60090aa-c839-4fb2-8379-5862f0dd1817",
    "_uuid": "04be176476d2315073ac5368e3ee6ba23f1be66b"
   },
   "outputs": [],
   "source": [
    "###### Total runs socred  by a different team in all seasons"
   ]
  },
  {
   "cell_type": "code",
   "execution_count": 25,
   "metadata": {
    "_cell_guid": "38c6ed04-9ff8-4bf0-b3a6-fbba1d31b8a6",
    "_uuid": "76e9f90c89cd53d7ccdb33819820666210dc5aa0",
    "collapsed": true
   },
   "outputs": [],
   "source": [
    "#deliveries.groupby(deliveries.batting_team).total_runs.sum()"
   ]
  },
  {
   "cell_type": "markdown",
   "execution_count": null,
   "metadata": {
    "_cell_guid": "0c895417-bcea-4409-8dd2-9d4b04229d74",
    "_uuid": "b201e898b42c35660d3a6bdfb8b316d5bca70dc1"
   },
   "outputs": [],
   "source": [
    "###### Total runs scored in different overs"
   ]
  },
  {
   "cell_type": "code",
   "execution_count": 26,
   "metadata": {
    "_cell_guid": "98d68e2d-34e2-43c2-9d98-15c9227a2006",
    "_uuid": "cf96ffb528f2b4871623f92ba29bc95ba50fa6ee",
    "collapsed": false
   },
   "outputs": [
    {
     "data": {
      "text/plain": [
       "<matplotlib.axes._subplots.AxesSubplot at 0x7fe50cc33a58>"
      ]
     },
     "execution_count": 26,
     "metadata": {},
     "output_type": "execute_result"
    },
    {
     "data": {
      "image/png": "[encoded data removed]",
      "text/plain": [
       "<matplotlib.figure.Figure at 0x7fe50d11e0b8>"
      ]
     },
     "metadata": {},
     "output_type": "display_data"
    }
   ],
   "source": [
    "deliveries.groupby([deliveries.over]).total_runs.sum().plot(kind='pie')"
   ]
  },
  {
   "cell_type": "markdown",
   "execution_count": null,
   "metadata": {
    "_cell_guid": "7279c913-c6f1-4ffe-9918-effcce387347",
    "_uuid": "b19fe2a3c0d4609959eafc70209299fbf2282216"
   },
   "outputs": [],
   "source": [
    "###### Total runs scored by diffrent batsman "
   ]
  },
  {
   "cell_type": "code",
   "execution_count": 27,
   "metadata": {
    "_cell_guid": "7f40aaa7-9ac7-4b6f-9045-c3ad47f80140",
    "_uuid": "c2e18d86edab63a52e8938674fe8c51b57f847b1",
    "collapsed": false
   },
   "outputs": [],
   "source": [
    "#deliveries.groupby(deliveries.batsman).batsman_runs.sum().sort_values(ascending=False)"
   ]
  },
  {
   "cell_type": "markdown",
   "execution_count": null,
   "metadata": {
    "_cell_guid": "b8d5230f-67a2-428f-a4ff-a8ffd4d46b9a",
    "_uuid": "2c7ef2f547bb61cf406d46081840e6e94da584a0"
   },
   "outputs": [],
   "source": [
    "###### Total runs scored by different batsman while chasing"
   ]
  },
  {
   "cell_type": "code",
   "execution_count": 28,
   "metadata": {
    "_cell_guid": "993834f8-5a3d-41c6-a796-97de5e2f1f54",
    "_uuid": "f4ec7a622121833fe42d9d059f324800eb68e509",
    "collapsed": false
   },
   "outputs": [],
   "source": [
    "df = deliveries.loc[deliveries.inning == 2 ,:]\n",
    "#df.groupby(deliveries.batsman).batsman_runs.sum().sort_values(ascending=False)"
   ]
  },
  {
   "cell_type": "markdown",
   "execution_count": null,
   "metadata": {
    "_cell_guid": "91eb1b43-7784-4109-b857-71c326cd4c29",
    "_uuid": "6fa7de9e4ff55d12bc789c850528853db12e182c"
   },
   "outputs": [],
   "source": [
    "###### Total runs scored by Virat Kohli / Any Batsman against various teams "
   ]
  },
  {
   "cell_type": "code",
   "execution_count": 29,
   "metadata": {
    "_cell_guid": "230ccf71-1a64-44ec-86d1-f3d08b0ac3c5",
    "_uuid": "d43da1215cfce5d1caf3f0e4cd927610fd75a9b2",
    "collapsed": false
   },
   "outputs": [],
   "source": [
    "df = deliveries.loc[deliveries.batsman == 'V Kohli',:]\n",
    "#df.groupby(df.bowling_team).batsman_runs.sum().sort_values(ascending=False)"
   ]
  },
  {
   "cell_type": "markdown",
   "execution_count": null,
   "metadata": {
    "_cell_guid": "24be9da0-27e2-4846-9d25-40a2c4e13ca2",
    "_uuid": "8d6d83e0d92489f626989a01c29e1f0b5a4c3019"
   },
   "outputs": [],
   "source": [
    "###### Total runs scored by Virat Kohli / Any Batsman against all the bowlers "
   ]
  },
  {
   "cell_type": "code",
   "execution_count": 30,
   "metadata": {
    "_cell_guid": "7e5bdea4-7f45-4271-92ed-f9e29fc3bdf6",
    "_uuid": "17597102558903fda89982d2db4688274e343055",
    "collapsed": false
   },
   "outputs": [],
   "source": [
    "df = deliveries.loc[deliveries.batsman == 'V Kohli',:]\n",
    "#df.groupby(df.bowler).batsman_runs.sum().sort_values(ascending=False)\n",
    "\n",
    "#Interesting find --Among top seven, six of them are indians----"
   ]
  },
  {
   "cell_type": "markdown",
   "execution_count": null,
   "metadata": {
    "_cell_guid": "c4acc716-e10e-456d-977a-544a71acb0d4",
    "_uuid": "1b9d0373e134a276583ef6b20dc0e1d331607c7b"
   },
   "outputs": [],
   "source": [
    "###### Maximum centuries scored by a batsman "
   ]
  },
  {
   "cell_type": "code",
   "execution_count": 31,
   "metadata": {
    "_cell_guid": "404db20b-a10a-4274-b44c-d731db81cb44",
    "_uuid": "b1ecbe3cd5b6ba335975279c974ed7e34130f1ba",
    "collapsed": false
   },
   "outputs": [
    {
     "data": {
      "text/plain": [
       "batsman\n",
       "CH Gayle          7\n",
       "V Kohli           5\n",
       "SK Raina          3\n",
       "V Sehwag          3\n",
       "AB de Villiers    3\n",
       "Name: total_runs, dtype: int64"
      ]
     },
     "execution_count": 31,
     "metadata": {},
     "output_type": "execute_result"
    }
   ],
   "source": [
    "runs_series = deliveries.groupby([deliveries.match_id,deliveries.batsman]).total_runs.sum()\n",
    "runs_df = pd.DataFrame(runs_series)\n",
    "runs_df = runs_df.reset_index()\n",
    "condition = runs_df.total_runs >= 100\n",
    "player_100df = runs_df.loc[condition,:]\n",
    "player_100df.groupby(player_100df.batsman).total_runs.count().sort_values(ascending=False).head(5)"
   ]
  },
  {
   "cell_type": "markdown",
   "execution_count": null,
   "metadata": {
    "_cell_guid": "4b163df7-c64c-4334-a011-79c11a277971",
    "_uuid": "fd2989a0ede6c8b1ceafe3b3abec49226ae137f7"
   },
   "outputs": [],
   "source": [
    "### FIELDERS"
   ]
  },
  {
   "cell_type": "markdown",
   "execution_count": null,
   "metadata": {
    "_cell_guid": "08a33c2a-8fde-4434-a8d4-daae5affc061",
    "_uuid": "c55abb3f21a3db74385734d958dedd052234eb82"
   },
   "outputs": [],
   "source": [
    "###### Best Fielder in terms of runout "
   ]
  },
  {
   "cell_type": "code",
   "execution_count": 32,
   "metadata": {
    "_cell_guid": "d85e74fc-aa48-48d4-adc5-bcea65d6e05b",
    "_uuid": "43a00fd44b7b403ab7842081f51d1b4c8265a733",
    "collapsed": false
   },
   "outputs": [],
   "source": [
    "condition = deliveries.dismissal_kind == 'run out'\n",
    "df = deliveries.loc[condition,:]\n",
    "#df.groupby(df.fielder).batsman.count().sort_values(ascending=False)"
   ]
  },
  {
   "cell_type": "markdown",
   "execution_count": null,
   "metadata": {
    "_cell_guid": "4fb85715-efd4-483d-b226-bc6b2811d42e",
    "_uuid": "288882305bd74cce4b9688736aaf6c3aedccbb20"
   },
   "outputs": [],
   "source": [
    "###### Best Fielder in terms of catches"
   ]
  },
  {
   "cell_type": "code",
   "execution_count": 33,
   "metadata": {
    "_cell_guid": "417f8ed3-4327-4632-bb38-c4ff0ca60694",
    "_uuid": "3dc628bc241f97e111ad2ee067f605672d60c644",
    "collapsed": false
   },
   "outputs": [],
   "source": [
    "condition = (deliveries.dismissal_kind == 'caught and bowled') |(deliveries.dismissal_kind == 'caught')\n",
    "df = deliveries.loc[condition,:]\n",
    "#df.groupby(df.fielder).batsman.count().sort_values(ascending=False)"
   ]
  },
  {
   "cell_type": "markdown",
   "execution_count": null,
   "metadata": {
    "_cell_guid": "030cecad-e85e-499d-8602-85cf56ea89e9",
    "_uuid": "7e45f4b5900b98c0f1370870aac18c47105dc526"
   },
   "outputs": [],
   "source": [
    "###### Best Keeper in terms of catching and stumping"
   ]
  },
  {
   "cell_type": "code",
   "execution_count": 34,
   "metadata": {
    "_cell_guid": "67f81442-c6f9-45ac-9152-13caeed67627",
    "_uuid": "acc33b7dfc6d04ebc74b033c6e9b06f67b5651a0",
    "collapsed": false,
    "scrolled": false
   },
   "outputs": [],
   "source": [
    "condition = (deliveries.dismissal_kind == 'stumped')\n",
    "df = deliveries.loc[condition,:]\n",
    "#df.groupby(df.fielder).batsman.count().sort_values(ascending=False)"
   ]
  },
  {
   "cell_type": "markdown",
   "execution_count": null,
   "metadata": {
    "_cell_guid": "9bbce332-1750-4b13-b288-d5ddb646e139",
    "_uuid": "4774e8971d30f33596e5fdef353d2e48659d70b1"
   },
   "outputs": [],
   "source": [
    "# Analysis on Joining Table "
   ]
  },
  {
   "cell_type": "code",
   "execution_count": 35,
   "metadata": {
    "_cell_guid": "442b7e2e-adb7-46e3-a2d0-2fff2682333e",
    "_uuid": "ac3862c6e869a7aba5c69b89a10095c6753853d7",
    "collapsed": false
   },
   "outputs": [],
   "source": [
    "combined = deliveries.set_index('match_id').join(matches.set_index('id'),how='inner')"
   ]
  },
  {
   "cell_type": "markdown",
   "execution_count": null,
   "metadata": {
    "_cell_guid": "64fd14c6-8348-460c-ba75-ac2dfd064495",
    "_uuid": "2f8b0ef89013c1c544e4dfb6bd864443beb08e95"
   },
   "outputs": [],
   "source": [
    "###### Best fielders in terms of catches seasonwise"
   ]
  },
  {
   "cell_type": "code",
   "execution_count": 36,
   "metadata": {
    "_cell_guid": "fd2c3127-adea-410e-bcfb-d9a3351f88a3",
    "_uuid": "3ab9b89e8b34edfb6a1aac3679a2abde43da2a79",
    "collapsed": false
   },
   "outputs": [],
   "source": [
    "condition = combined.fielder != 'notout'\n",
    "df = combined.loc[condition,:]\n",
    "fielders_df = df.groupby([df.season,df.fielder]).non_striker.count()\n",
    "fielders_df = pd.DataFrame(fielders_df)\n",
    "fielders_df = fielders_df.reset_index()"
   ]
  },
  {
   "cell_type": "code",
   "execution_count": 37,
   "metadata": {
    "_cell_guid": "e801659b-5f4e-467c-a6ea-9cceb2ff5a09",
    "_uuid": "cba9556e387d5d850c0105c234ab0c7668060691",
    "collapsed": false
   },
   "outputs": [
    {
     "data": {
      "text/html": [
       "<div>\n",
       "<style>\n",
       "    .dataframe thead tr:only-child th {\n",
       "        text-align: right;\n",
       "    }\n",
       "\n",
       "    .dataframe thead th {\n",
       "        text-align: left;\n",
       "    }\n",
       "\n",
       "    .dataframe tbody tr th {\n",
       "        vertical-align: top;\n",
       "    }\n",
       "</style>\n",
       "<table border=\"1\" class=\"dataframe\">\n",
       "  <thead>\n",
       "    <tr style=\"text-align: right;\">\n",
       "      <th></th>\n",
       "      <th>season</th>\n",
       "      <th>fielder</th>\n",
       "      <th>non_striker</th>\n",
       "    </tr>\n",
       "  </thead>\n",
       "  <tbody>\n",
       "    <tr>\n",
       "      <th>817</th>\n",
       "      <td>2013</td>\n",
       "      <td>MS Dhoni</td>\n",
       "      <td>19</td>\n",
       "    </tr>\n",
       "    <tr>\n",
       "      <th>864</th>\n",
       "      <td>2013</td>\n",
       "      <td>SV Samson</td>\n",
       "      <td>15</td>\n",
       "    </tr>\n",
       "  </tbody>\n",
       "</table>\n",
       "</div>"
      ],
      "text/plain": [
       "     season    fielder  non_striker\n",
       "817    2013   MS Dhoni           19\n",
       "864    2013  SV Samson           15"
      ]
     },
     "execution_count": 37,
     "metadata": {},
     "output_type": "execute_result"
    }
   ],
   "source": [
    "condition = fielders_df.season == 2013\n",
    "fielders_df.loc[condition,:].sort_values('non_striker',ascending=False).head(2)"
   ]
  },
  {
   "cell_type": "markdown",
   "execution_count": null,
   "metadata": {
    "_cell_guid": "6934616d-07f3-453a-b200-9b371fe8402f",
    "_uuid": "246d399d3b09c40a89b3cca0e8fbacbd0e98d1c4"
   },
   "outputs": [],
   "source": [
    "###### Best Batsman in terms of season"
   ]
  },
  {
   "cell_type": "code",
   "execution_count": 38,
   "metadata": {
    "_cell_guid": "846d61d2-3ac7-4aae-8e3b-4439e726dcd6",
    "_uuid": "b5b343a945feda8d931a2ee91a07c615b00ea4ed",
    "collapsed": false
   },
   "outputs": [],
   "source": [
    "runs_series = combined.groupby([combined.season,combined.batsman]).total_runs.sum()\n",
    "runs_df = pd.DataFrame(runs_series)\n",
    "runs_df.reset_index(inplace=True)"
   ]
  },
  {
   "cell_type": "code",
   "execution_count": 39,
   "metadata": {
    "_cell_guid": "9c034eca-2469-4ffd-a10a-c51f79a909ec",
    "_uuid": "736009a58154b7eac1ae4a5c931248ce4576d6fc",
    "collapsed": false
   },
   "outputs": [
    {
     "data": {
      "text/html": [
       "<div>\n",
       "<style>\n",
       "    .dataframe thead tr:only-child th {\n",
       "        text-align: right;\n",
       "    }\n",
       "\n",
       "    .dataframe thead th {\n",
       "        text-align: left;\n",
       "    }\n",
       "\n",
       "    .dataframe tbody tr th {\n",
       "        vertical-align: top;\n",
       "    }\n",
       "</style>\n",
       "<table border=\"1\" class=\"dataframe\">\n",
       "  <thead>\n",
       "    <tr style=\"text-align: right;\">\n",
       "      <th></th>\n",
       "      <th>season</th>\n",
       "      <th>batsman</th>\n",
       "      <th>total_runs</th>\n",
       "    </tr>\n",
       "  </thead>\n",
       "  <tbody>\n",
       "    <tr>\n",
       "      <th>1383</th>\n",
       "      <td>2016</td>\n",
       "      <td>V Kohli</td>\n",
       "      <td>998</td>\n",
       "    </tr>\n",
       "    <tr>\n",
       "      <th>1278</th>\n",
       "      <td>2016</td>\n",
       "      <td>DA Warner</td>\n",
       "      <td>884</td>\n",
       "    </tr>\n",
       "    <tr>\n",
       "      <th>1256</th>\n",
       "      <td>2016</td>\n",
       "      <td>AB de Villiers</td>\n",
       "      <td>714</td>\n",
       "    </tr>\n",
       "    <tr>\n",
       "      <th>1357</th>\n",
       "      <td>2016</td>\n",
       "      <td>S Dhawan</td>\n",
       "      <td>523</td>\n",
       "    </tr>\n",
       "    <tr>\n",
       "      <th>1288</th>\n",
       "      <td>2016</td>\n",
       "      <td>G Gambhir</td>\n",
       "      <td>520</td>\n",
       "    </tr>\n",
       "  </tbody>\n",
       "</table>\n",
       "</div>"
      ],
      "text/plain": [
       "      season         batsman  total_runs\n",
       "1383    2016         V Kohli         998\n",
       "1278    2016       DA Warner         884\n",
       "1256    2016  AB de Villiers         714\n",
       "1357    2016        S Dhawan         523\n",
       "1288    2016       G Gambhir         520"
      ]
     },
     "execution_count": 39,
     "metadata": {},
     "output_type": "execute_result"
    }
   ],
   "source": [
    "condition = runs_df.season == 2016\n",
    "runs_df.loc[condition,:].sort_values('total_runs',ascending=False).head(5)"
   ]
  },
  {
   "cell_type": "markdown",
   "execution_count": null,
   "metadata": {
    "_cell_guid": "00d17267-6a5a-428e-915b-a48f7808bcca",
    "_uuid": "3e8bf0ad790950953c0b80089205c6bfda59729e"
   },
   "outputs": [],
   "source": [
    "###### Best Wicket tackers in terms of season"
   ]
  },
  {
   "cell_type": "code",
   "execution_count": 40,
   "metadata": {
    "_cell_guid": "5f863e70-e7d6-4cdc-b8f6-c0a91bfe5883",
    "_uuid": "f262233f3663c96800e7a1321a0a9821b3c9e4c8",
    "collapsed": false
   },
   "outputs": [],
   "source": [
    "condition = (combined.dismissal_kind != 'run out')&(combined.dismissal_kind != 'retired hurt')&(combined.dismissal_kind != 'notout')\n",
    "df = combined.loc[condition,:]\n",
    "wicket_series = df.groupby([df.season,df.bowler]).non_striker.count()\n",
    "wicket_df = pd.DataFrame(wicket_series)\n",
    "wicket_df.reset_index(inplace=True)"
   ]
  },
  {
   "cell_type": "code",
   "execution_count": 41,
   "metadata": {
    "_cell_guid": "cb0735bd-5e3b-42a2-9e16-b20c316a9f6c",
    "_uuid": "a00d244b5c8b71bbe9cdaa60d73df887636723b8",
    "collapsed": false
   },
   "outputs": [
    {
     "data": {
      "text/html": [
       "<div>\n",
       "<style>\n",
       "    .dataframe thead tr:only-child th {\n",
       "        text-align: right;\n",
       "    }\n",
       "\n",
       "    .dataframe thead th {\n",
       "        text-align: left;\n",
       "    }\n",
       "\n",
       "    .dataframe tbody tr th {\n",
       "        vertical-align: top;\n",
       "    }\n",
       "</style>\n",
       "<table border=\"1\" class=\"dataframe\">\n",
       "  <thead>\n",
       "    <tr style=\"text-align: right;\">\n",
       "      <th></th>\n",
       "      <th>season</th>\n",
       "      <th>bowler</th>\n",
       "      <th>non_striker</th>\n",
       "    </tr>\n",
       "  </thead>\n",
       "  <tbody>\n",
       "    <tr>\n",
       "      <th>773</th>\n",
       "      <td>2016</td>\n",
       "      <td>B Kumar</td>\n",
       "      <td>23</td>\n",
       "    </tr>\n",
       "    <tr>\n",
       "      <th>847</th>\n",
       "      <td>2016</td>\n",
       "      <td>YS Chahal</td>\n",
       "      <td>21</td>\n",
       "    </tr>\n",
       "    <tr>\n",
       "      <th>836</th>\n",
       "      <td>2016</td>\n",
       "      <td>SR Watson</td>\n",
       "      <td>20</td>\n",
       "    </tr>\n",
       "    <tr>\n",
       "      <th>784</th>\n",
       "      <td>2016</td>\n",
       "      <td>DS Kulkarni</td>\n",
       "      <td>18</td>\n",
       "    </tr>\n",
       "    <tr>\n",
       "      <th>814</th>\n",
       "      <td>2016</td>\n",
       "      <td>Mustafizur Rahman</td>\n",
       "      <td>17</td>\n",
       "    </tr>\n",
       "  </tbody>\n",
       "</table>\n",
       "</div>"
      ],
      "text/plain": [
       "     season             bowler  non_striker\n",
       "773    2016            B Kumar           23\n",
       "847    2016          YS Chahal           21\n",
       "836    2016          SR Watson           20\n",
       "784    2016        DS Kulkarni           18\n",
       "814    2016  Mustafizur Rahman           17"
      ]
     },
     "execution_count": 41,
     "metadata": {},
     "output_type": "execute_result"
    }
   ],
   "source": [
    "condition = wicket_df.season == 2016\n",
    "wicket_df.loc[condition,:].sort_values('non_striker',ascending=False).head(5)"
   ]
  },
  {
   "cell_type": "markdown",
   "execution_count": null,
   "metadata": {
    "_cell_guid": "6f1382cc-501c-4ad1-a30f-3f9ce6398a89",
    "_uuid": "1d085425bf32e4642984b3a60515ae67d70c04a5"
   },
   "outputs": [],
   "source": [
    "###### 4 Wicket in a single match season wise"
   ]
  },
  {
   "cell_type": "code",
   "execution_count": 42,
   "metadata": {
    "_cell_guid": "1ddf823b-d668-4c73-a376-bf03cfa469a1",
    "_uuid": "72da71c6c52239258afa16a1455b17e1d5c71964",
    "collapsed": false
   },
   "outputs": [],
   "source": [
    "condition = (combined.season==2016)&(combined.dismissal_kind != 'run out')&(combined.dismissal_kind != 'retired hurt')&(combined.dismissal_kind != 'notout')\n",
    "df = combined.loc[condition,:]\n",
    "wicket_series = df.groupby([df.index,df.bowler]).non_striker.count()\n",
    "wicket_df = pd.DataFrame(wicket_series)\n",
    "wicket_df.reset_index(inplace=True)"
   ]
  },
  {
   "cell_type": "code",
   "execution_count": 43,
   "metadata": {
    "_cell_guid": "27de5fa3-2a97-43bd-bb06-31139403432a",
    "_uuid": "86d895b68d5b2fe2d5213012f14ebf6b7d7fc1e4",
    "collapsed": false
   },
   "outputs": [
    {
     "data": {
      "text/html": [
       "<div>\n",
       "<style>\n",
       "    .dataframe thead tr:only-child th {\n",
       "        text-align: right;\n",
       "    }\n",
       "\n",
       "    .dataframe thead th {\n",
       "        text-align: left;\n",
       "    }\n",
       "\n",
       "    .dataframe tbody tr th {\n",
       "        vertical-align: top;\n",
       "    }\n",
       "</style>\n",
       "<table border=\"1\" class=\"dataframe\">\n",
       "  <thead>\n",
       "    <tr style=\"text-align: right;\">\n",
       "      <th></th>\n",
       "      <th>match_id</th>\n",
       "      <th>bowler</th>\n",
       "      <th>wicket</th>\n",
       "    </tr>\n",
       "  </thead>\n",
       "  <tbody>\n",
       "    <tr>\n",
       "      <th>236</th>\n",
       "      <td>557</td>\n",
       "      <td>A Zampa</td>\n",
       "      <td>6</td>\n",
       "    </tr>\n",
       "    <tr>\n",
       "      <th>12</th>\n",
       "      <td>520</td>\n",
       "      <td>DJ Bravo</td>\n",
       "      <td>4</td>\n",
       "    </tr>\n",
       "    <tr>\n",
       "      <th>35</th>\n",
       "      <td>524</td>\n",
       "      <td>A Mishra</td>\n",
       "      <td>4</td>\n",
       "    </tr>\n",
       "    <tr>\n",
       "      <th>51</th>\n",
       "      <td>526</td>\n",
       "      <td>MJ McClenaghan</td>\n",
       "      <td>4</td>\n",
       "    </tr>\n",
       "    <tr>\n",
       "      <th>80</th>\n",
       "      <td>532</td>\n",
       "      <td>B Kumar</td>\n",
       "      <td>4</td>\n",
       "    </tr>\n",
       "    <tr>\n",
       "      <th>162</th>\n",
       "      <td>545</td>\n",
       "      <td>AR Patel</td>\n",
       "      <td>4</td>\n",
       "    </tr>\n",
       "    <tr>\n",
       "      <th>190</th>\n",
       "      <td>549</td>\n",
       "      <td>AD Russell</td>\n",
       "      <td>4</td>\n",
       "    </tr>\n",
       "    <tr>\n",
       "      <th>258</th>\n",
       "      <td>560</td>\n",
       "      <td>MP Stoinis</td>\n",
       "      <td>4</td>\n",
       "    </tr>\n",
       "    <tr>\n",
       "      <th>261</th>\n",
       "      <td>561</td>\n",
       "      <td>CJ Jordan</td>\n",
       "      <td>4</td>\n",
       "    </tr>\n",
       "    <tr>\n",
       "      <th>296</th>\n",
       "      <td>567</td>\n",
       "      <td>YS Chahal</td>\n",
       "      <td>4</td>\n",
       "    </tr>\n",
       "    <tr>\n",
       "      <th>299</th>\n",
       "      <td>568</td>\n",
       "      <td>DR Smith</td>\n",
       "      <td>4</td>\n",
       "    </tr>\n",
       "    <tr>\n",
       "      <th>315</th>\n",
       "      <td>570</td>\n",
       "      <td>R Ashwin</td>\n",
       "      <td>4</td>\n",
       "    </tr>\n",
       "    <tr>\n",
       "      <th>342</th>\n",
       "      <td>574</td>\n",
       "      <td>DS Kulkarni</td>\n",
       "      <td>4</td>\n",
       "    </tr>\n",
       "    <tr>\n",
       "      <th>345</th>\n",
       "      <td>574</td>\n",
       "      <td>SR Watson</td>\n",
       "      <td>4</td>\n",
       "    </tr>\n",
       "  </tbody>\n",
       "</table>\n",
       "</div>"
      ],
      "text/plain": [
       "     match_id          bowler  wicket\n",
       "236       557         A Zampa       6\n",
       "12        520        DJ Bravo       4\n",
       "35        524        A Mishra       4\n",
       "51        526  MJ McClenaghan       4\n",
       "80        532         B Kumar       4\n",
       "162       545        AR Patel       4\n",
       "190       549      AD Russell       4\n",
       "258       560      MP Stoinis       4\n",
       "261       561       CJ Jordan       4\n",
       "296       567       YS Chahal       4\n",
       "299       568        DR Smith       4\n",
       "315       570        R Ashwin       4\n",
       "342       574     DS Kulkarni       4\n",
       "345       574       SR Watson       4"
      ]
     },
     "execution_count": 43,
     "metadata": {},
     "output_type": "execute_result"
    }
   ],
   "source": [
    "wicket_df.columns= ['match_id','bowler','wicket']\n",
    "condition = wicket_df.wicket >= 4\n",
    "wicket_df = wicket_df.loc[condition,:].sort_values('wicket',ascending=False)\n",
    "wicket_df"
   ]
  },
  {
   "cell_type": "code",
   "execution_count": 44,
   "metadata": {
    "_cell_guid": "37671c30-9d4f-4a1d-9673-5d6f72d34266",
    "_uuid": "e59811fc4101378af16c024c063ed57d149fbc95",
    "collapsed": false,
    "scrolled": false
   },
   "outputs": [
    {
     "data": {
      "text/html": [
       "<div>\n",
       "<style>\n",
       "    .dataframe thead tr:only-child th {\n",
       "        text-align: right;\n",
       "    }\n",
       "\n",
       "    .dataframe thead th {\n",
       "        text-align: left;\n",
       "    }\n",
       "\n",
       "    .dataframe tbody tr th {\n",
       "        vertical-align: top;\n",
       "    }\n",
       "</style>\n",
       "<table border=\"1\" class=\"dataframe\">\n",
       "  <thead>\n",
       "    <tr style=\"text-align: right;\">\n",
       "      <th></th>\n",
       "      <th>bowler</th>\n",
       "      <th>4 Wickets</th>\n",
       "    </tr>\n",
       "  </thead>\n",
       "  <tbody>\n",
       "    <tr>\n",
       "      <th>0</th>\n",
       "      <td>YS Chahal</td>\n",
       "      <td>1</td>\n",
       "    </tr>\n",
       "    <tr>\n",
       "      <th>1</th>\n",
       "      <td>SR Watson</td>\n",
       "      <td>1</td>\n",
       "    </tr>\n",
       "    <tr>\n",
       "      <th>2</th>\n",
       "      <td>R Ashwin</td>\n",
       "      <td>1</td>\n",
       "    </tr>\n",
       "    <tr>\n",
       "      <th>3</th>\n",
       "      <td>MP Stoinis</td>\n",
       "      <td>1</td>\n",
       "    </tr>\n",
       "    <tr>\n",
       "      <th>4</th>\n",
       "      <td>MJ McClenaghan</td>\n",
       "      <td>1</td>\n",
       "    </tr>\n",
       "    <tr>\n",
       "      <th>5</th>\n",
       "      <td>DS Kulkarni</td>\n",
       "      <td>1</td>\n",
       "    </tr>\n",
       "    <tr>\n",
       "      <th>6</th>\n",
       "      <td>DR Smith</td>\n",
       "      <td>1</td>\n",
       "    </tr>\n",
       "    <tr>\n",
       "      <th>7</th>\n",
       "      <td>DJ Bravo</td>\n",
       "      <td>1</td>\n",
       "    </tr>\n",
       "    <tr>\n",
       "      <th>8</th>\n",
       "      <td>CJ Jordan</td>\n",
       "      <td>1</td>\n",
       "    </tr>\n",
       "    <tr>\n",
       "      <th>9</th>\n",
       "      <td>B Kumar</td>\n",
       "      <td>1</td>\n",
       "    </tr>\n",
       "    <tr>\n",
       "      <th>10</th>\n",
       "      <td>AR Patel</td>\n",
       "      <td>1</td>\n",
       "    </tr>\n",
       "    <tr>\n",
       "      <th>11</th>\n",
       "      <td>AD Russell</td>\n",
       "      <td>1</td>\n",
       "    </tr>\n",
       "    <tr>\n",
       "      <th>12</th>\n",
       "      <td>A Zampa</td>\n",
       "      <td>1</td>\n",
       "    </tr>\n",
       "    <tr>\n",
       "      <th>13</th>\n",
       "      <td>A Mishra</td>\n",
       "      <td>1</td>\n",
       "    </tr>\n",
       "  </tbody>\n",
       "</table>\n",
       "</div>"
      ],
      "text/plain": [
       "            bowler  4 Wickets\n",
       "0        YS Chahal          1\n",
       "1        SR Watson          1\n",
       "2         R Ashwin          1\n",
       "3       MP Stoinis          1\n",
       "4   MJ McClenaghan          1\n",
       "5      DS Kulkarni          1\n",
       "6         DR Smith          1\n",
       "7         DJ Bravo          1\n",
       "8        CJ Jordan          1\n",
       "9          B Kumar          1\n",
       "10        AR Patel          1\n",
       "11      AD Russell          1\n",
       "12         A Zampa          1\n",
       "13        A Mishra          1"
      ]
     },
     "execution_count": 44,
     "metadata": {},
     "output_type": "execute_result"
    }
   ],
   "source": [
    "df = pd.DataFrame(wicket_df.groupby(wicket_df.bowler).wicket.count().sort_values(ascending=False))\n",
    "df.columns = ['4 Wickets']\n",
    "df.reset_index()"
   ]
  },
  {
   "cell_type": "markdown",
   "execution_count": null,
   "metadata": {
    "_cell_guid": "5048fefd-4b01-4c0c-a7ae-b82f4b6553fe",
    "_uuid": "ab51547c009c21d690843e0d91f00283bd68dfa9"
   },
   "outputs": [],
   "source": [
    "###### Best economic bowler season wise ( minimum 10 overs bowled)"
   ]
  },
  {
   "cell_type": "code",
   "execution_count": 45,
   "metadata": {
    "_cell_guid": "4f186bde-2d83-4416-941d-dc7bc25ac28d",
    "_uuid": "a8eca5ba7027095db4af1da0327c812d422aa48f",
    "collapsed": false
   },
   "outputs": [],
   "source": [
    "#Filtering bowlers according to season\n",
    "condition = combined.season == 2015\n",
    "df = combined.loc[condition,:]"
   ]
  },
  {
   "cell_type": "code",
   "execution_count": 46,
   "metadata": {
    "_cell_guid": "27c43f69-91b4-467a-8456-d2912e913c1a",
    "_uuid": "101ba9b6f823c51686386e0089a5c2aadad203a5",
    "collapsed": false
   },
   "outputs": [],
   "source": [
    "#Filtering bowlers that bowled minimum 60 balls\n",
    "bowler_series = df.groupby([df.bowler]).total_runs.count()\n",
    "bowler_df = pd.DataFrame(bowler_series)\n",
    "bowler_df.columns = ['balls']\n",
    "bowler_df = bowler_df.loc[bowler_df.balls >= 60,:]"
   ]
  },
  {
   "cell_type": "code",
   "execution_count": 47,
   "metadata": {
    "_cell_guid": "6199a901-61bc-4d6a-9e75-adf7b16c8c1e",
    "_uuid": "fb49f1f15a5aa319c975f0b7431f3cc057c35a24",
    "collapsed": false
   },
   "outputs": [],
   "source": [
    "condition = df.bowler.isin(bowler_df.index)\n",
    "df2 = df.loc[condition,:]\n",
    "df3 = pd.DataFrame(df2.groupby([df2.bowler]).total_runs.mean().sort_values().head(10))"
   ]
  },
  {
   "cell_type": "code",
   "execution_count": 48,
   "metadata": {
    "_cell_guid": "54001039-685c-42b1-bb4a-1a99192cecf2",
    "_uuid": "4fcdbc1f5a8f2cdb89fac7383560689ec3beced3",
    "collapsed": false
   },
   "outputs": [
    {
     "data": {
      "text/html": [
       "<div>\n",
       "<style>\n",
       "    .dataframe thead tr:only-child th {\n",
       "        text-align: right;\n",
       "    }\n",
       "\n",
       "    .dataframe thead th {\n",
       "        text-align: left;\n",
       "    }\n",
       "\n",
       "    .dataframe tbody tr th {\n",
       "        vertical-align: top;\n",
       "    }\n",
       "</style>\n",
       "<table border=\"1\" class=\"dataframe\">\n",
       "  <thead>\n",
       "    <tr style=\"text-align: right;\">\n",
       "      <th></th>\n",
       "      <th>bowler</th>\n",
       "      <th>Economy</th>\n",
       "    </tr>\n",
       "  </thead>\n",
       "  <tbody>\n",
       "    <tr>\n",
       "      <th>0</th>\n",
       "      <td>R Ashwin</td>\n",
       "      <td>0.954167</td>\n",
       "    </tr>\n",
       "    <tr>\n",
       "      <th>1</th>\n",
       "      <td>Z Khan</td>\n",
       "      <td>1.025806</td>\n",
       "    </tr>\n",
       "    <tr>\n",
       "      <th>2</th>\n",
       "      <td>MC Henriques</td>\n",
       "      <td>1.044586</td>\n",
       "    </tr>\n",
       "    <tr>\n",
       "      <th>3</th>\n",
       "      <td>MA Starc</td>\n",
       "      <td>1.125000</td>\n",
       "    </tr>\n",
       "    <tr>\n",
       "      <th>4</th>\n",
       "      <td>Sandeep Sharma</td>\n",
       "      <td>1.154341</td>\n",
       "    </tr>\n",
       "    <tr>\n",
       "      <th>5</th>\n",
       "      <td>GB Hogg</td>\n",
       "      <td>1.165354</td>\n",
       "    </tr>\n",
       "    <tr>\n",
       "      <th>6</th>\n",
       "      <td>A Nehra</td>\n",
       "      <td>1.176623</td>\n",
       "    </tr>\n",
       "    <tr>\n",
       "      <th>7</th>\n",
       "      <td>JP Duminy</td>\n",
       "      <td>1.196262</td>\n",
       "    </tr>\n",
       "    <tr>\n",
       "      <th>8</th>\n",
       "      <td>SL Malinga</td>\n",
       "      <td>1.198413</td>\n",
       "    </tr>\n",
       "    <tr>\n",
       "      <th>9</th>\n",
       "      <td>S Aravind</td>\n",
       "      <td>1.200000</td>\n",
       "    </tr>\n",
       "  </tbody>\n",
       "</table>\n",
       "</div>"
      ],
      "text/plain": [
       "           bowler   Economy\n",
       "0        R Ashwin  0.954167\n",
       "1          Z Khan  1.025806\n",
       "2    MC Henriques  1.044586\n",
       "3        MA Starc  1.125000\n",
       "4  Sandeep Sharma  1.154341\n",
       "5         GB Hogg  1.165354\n",
       "6         A Nehra  1.176623\n",
       "7       JP Duminy  1.196262\n",
       "8      SL Malinga  1.198413\n",
       "9       S Aravind  1.200000"
      ]
     },
     "execution_count": 48,
     "metadata": {},
     "output_type": "execute_result"
    }
   ],
   "source": [
    "df3.columns = ['Economy']\n",
    "df3.reset_index()"
   ]
  },
  {
   "cell_type": "code",
   "execution_count": 49,
   "metadata": {
    "_cell_guid": "6a558dcf-75be-42bb-8d78-37986dd45ef8",
    "_uuid": "0908376ce9de251982e8515f0efd2c501669f60a",
    "collapsed": true
   },
   "outputs": [],
   "source": []
  }
 ],
 "metadata": {
  "kernelspec": {
   "display_name": "Python 3",
   "language": "python",
   "name": "python3"
  },
  "language_info": {
   "codemirror_mode": {
    "name": "ipython",
    "version": 3
   },
   "file_extension": ".py",
   "mimetype": "text/x-python",
   "name": "python",
   "nbconvert_exporter": "python",
   "pygments_lexer": "ipython3",
   "version": "3.6.1"
  }
 },
 "nbformat": 4,
 "nbformat_minor": 0
}
